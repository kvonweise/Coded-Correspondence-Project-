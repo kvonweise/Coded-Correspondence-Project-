{
 "cells": [
  {
   "cell_type": "code",
   "execution_count": 2,
   "metadata": {},
   "outputs": [
    {
     "name": "stdout",
     "output_type": "stream",
     "text": [
      "heyjthere!jthisjisjanjexamplejofjajcaesarjcipher.jwerejyoujablejtojdecodejit?jijhopejso!jsendjmejajmessagejbackjwithjthejsamejoffset!\n"
     ]
    }
   ],
   "source": [
    "alphabet = 'abcdefghijklmnopqrstuvwxyz'\n",
    "punctuation = \".,?'!'\"\n",
    "message = \"xuo jxuhu! jxyi yi qd unqcfbu ev q squiqh syfxuh. muhu oek qrbu je tusetu yj? y xefu ie! iudt cu q cuiiqwu rqsa myjx jxu iqcu evviuj!\"\n",
    "trans_message = \"\"\n",
    "for letter in message: \n",
    "    if not letter in punctuation: \n",
    "        letter_value = alphabet.find(letter)\n",
    "        trans_message += alphabet[(letter_value + 10) % 26]\n",
    "    else: \n",
    "        trans_message += letter\n",
    "print(trans_message)"
   ]
  },
  {
   "cell_type": "code",
   "execution_count": 3,
   "metadata": {},
   "outputs": [
    {
     "name": "stdout",
     "output_type": "stream",
     "text": [
      "pxqjpqpseebpsyfxuh!ppxqdaipvehpixemydwpyjpjepcu.\n"
     ]
    }
   ],
   "source": [
    "message_for_vishal = \"What a cool cipher! Thanks for showing it to me.\"\n",
    "trans_message = \"\"\n",
    "for letter in message_for_vishal: \n",
    "    if not letter in punctuation: \n",
    "        letter_value = alphabet.find(letter)\n",
    "        trans_message += alphabet[(letter_value - 10) % 26]\n",
    "    else: \n",
    "        trans_message += letter \n",
    "print(trans_message)\n",
    "    "
   ]
  },
  {
   "cell_type": "code",
   "execution_count": 4,
   "metadata": {},
   "outputs": [
    {
     "name": "stdout",
     "output_type": "stream",
     "text": [
      "thejoffsetjforjthejsecondjmessagejisjfourteen.\n"
     ]
    }
   ],
   "source": [
    "alphabet = 'abcdefghijklmnopqrstuvwxyz'\n",
    "punctuation = \".,?'!'\"\n",
    "message_one = \"jxu evviuj veh jxu iusedt cuiiqwu yi vekhjuud.\"\n",
    "def decoder(message, offset):\n",
    "    trans_message = \"\"\n",
    "    for letter in message:\n",
    "        if not letter in punctuation:\n",
    "            letter_value = alphabet.find(letter)\n",
    "            trans_message += alphabet[(letter_value + offset) % 26]\n",
    "        else:\n",
    "            trans_message += letter\n",
    "    return trans_message\n",
    "    \n",
    "def coder(message, offset):\n",
    "    trans_message = \"\"\n",
    "    for letter in message:\n",
    "        if not letter in punctuation:\n",
    "            letter_value = alphabet.find(letter)\n",
    "            trans_message += alphabet[(letter_value - offset) % 26]\n",
    "        else:\n",
    "            trans_message += letter\n",
    "    return trans_message\n",
    "\n",
    "\n",
    "print(decoder(message_one, 10))"
   ]
  },
  {
   "cell_type": "code",
   "execution_count": 5,
   "metadata": {},
   "outputs": [
    {
     "name": "stdout",
     "output_type": "stream",
     "text": [
      "lanbkniejcjiqhpelhajywaownjyeldanojpkjykzajukqnjiaoowcaojeojarajjiknajoayqna!\n"
     ]
    }
   ],
   "source": [
    "message_two = \"bqdradyuzs ygxfubxq omqemd oubtqde fa oapq kagd yqeemsqe ue qhqz yadq eqogdq!\"\n",
    "print(decoder(message_two,10))"
   ]
  },
  {
   "cell_type": "code",
   "execution_count": 6,
   "metadata": {},
   "outputs": [
    {
     "name": "stdout",
     "output_type": "stream",
     "text": [
      "offset1\n",
      "\tyvpakyviv!akyzjazjareavordgcvafwaratrvjriatzgyvi.anvivapflarscvakfauvtfuvazk?azayfgvajf!ajveuadvaradvjjrxvasrtbanzkyakyvajrdvafwwjvk!\n",
      "\n",
      "offset2\n",
      "\tzwqblzwjw!blzakbakbsfbwpsehdwbgxbsbuswksjbuahzwj.bowjwbqgmbstdwblgbvwugvwbal?babzghwbkg!bkwfvbewbsbewkksywbtsucboalzblzwbksewbgxxkwl!\n",
      "\n",
      "offset3\n",
      "\taxrcmaxkx!cmablcblctgcxqtfiexchyctcvtxltkcvbiaxk.cpxkxcrhnctuexcmhcwxvhwxcbm?cbcahixclh!clxgwcfxctcfxlltzxcutvdcpbmacmaxcltfxchyylxm!\n",
      "\n",
      "offset4\n",
      "\tbysdnbyly!dnbcmdcmduhdyrugjfydizdudwuymuldwcjbyl.dqylydsioduvfydnidxywixydcn?dcdbijydmi!dmyhxdgydudgymmuaydvuwedqcnbdnbydmugydizzmyn!\n",
      "\n",
      "offset5\n",
      "\tczteoczmz!eocdnedneviezsvhkgzejaevexvznvmexdkczm.erzmzetjpevwgzeojeyzxjyzedo?edecjkzenj!enziyehzevehznnvbzewvxferdoceoczenvhzejaanzo!\n",
      "\n",
      "offset6\n",
      "\tdaufpdana!fpdeofeofwjfatwilhafkbfwfywaownfyeldan.fsanafukqfwxhafpkfzaykzafep?fefdklafok!foajzfiafwfiaoowcafxwygfsepdfpdafowiafkbboap!\n",
      "\n",
      "offset7\n",
      "\tebvgqebob!gqefpgfpgxkgbuxjmibglcgxgzxbpxogzfmebo.gtbobgvlrgxyibgqlgabzlabgfq?gfgelmbgpl!gpbkagjbgxgjbppxdbgyxzhgtfqegqebgpxjbglccpbq!\n",
      "\n",
      "offset8\n",
      "\tfcwhrfcpc!hrfgqhgqhylhcvyknjchmdhyhaycqyphagnfcp.hucpchwmshyzjchrmhbcambchgr?hghfmnchqm!hqclbhkchyhkcqqyechzyaihugrfhrfchqykchmddqcr!\n",
      "\n",
      "offset9\n",
      "\tgdxisgdqd!isghrihrizmidwzlokdineizibzdrzqibhogdq.ivdqdixntizakdisnicdbncdihs?ihignodirn!irdmcildizildrrzfdiazbjivhsgisgdirzldineerds!\n",
      "\n",
      "offset10\n",
      "\theyjthere!jthisjisjanjexamplejofjajcaesarjcipher.jwerejyoujablejtojdecodejit?jijhopejso!jsendjmejajmessagejbackjwithjthejsamejoffset!\n",
      "\n",
      "offset11\n",
      "\tifzkuifsf!kuijtkjtkbokfybnqmfkpgkbkdbftbskdjqifs.kxfsfkzpvkbcmfkupkefdpefkju?kjkipqfktp!ktfoeknfkbknfttbhfkcbdlkxjuikuifktbnfkpggtfu!\n",
      "\n",
      "offset12\n",
      "\tjgalvjgtg!lvjkulkulcplgzcornglqhlclecguctlekrjgt.lygtglaqwlcdnglvqlfgeqfglkv?lkljqrgluq!lugpfloglcloguucigldcemlykvjlvjglucoglqhhugv!\n",
      "\n",
      "offset13\n",
      "\tkhbmwkhuh!mwklvmlvmdqmhadpsohmrimdmfdhvdumflskhu.mzhuhmbrxmdeohmwrmghfrghmlw?mlmkrshmvr!mvhqgmphmdmphvvdjhmedfnmzlwkmwkhmvdphmriivhw!\n",
      "\n",
      "offset14\n",
      "\tlicnxlivi!nxlmwnmwnernibeqtpinsjnengeiwevngmtliv.naivincsynefpinxsnhigshinmx?nmnlstinws!nwirhnqinenqiwwekinfegonamxlnxlinweqinsjjwix!\n",
      "\n",
      "offset15\n",
      "\tmjdoymjwj!oymnxonxofsojcfruqjotkofohfjxfwohnumjw.objwjodtzofgqjoytoijhtijony?onomtujoxt!oxjsiorjoforjxxfljogfhpobnymoymjoxfrjotkkxjy!\n",
      "\n",
      "offset16\n",
      "\tnkepznkxk!pznoypoypgtpkdgsvrkpulpgpigkygxpiovnkx.pckxkpeuapghrkpzupjkiujkpoz?popnuvkpyu!pyktjpskpgpskyygmkphgiqpcoznpznkpygskpullykz!\n",
      "\n",
      "offset17\n",
      "\tolfqaolyl!qaopzqpzqhuqlehtwslqvmqhqjhlzhyqjpwoly.qdlylqfvbqhislqavqkljvklqpa?qpqovwlqzv!qzlukqtlqhqtlzzhnlqihjrqdpaoqaolqzhtlqvmmzla!\n",
      "\n",
      "offset18\n",
      "\tpmgrbpmzm!rbpqarqarivrmfiuxtmrwnrirkimaizrkqxpmz.remzmrgwcrijtmrbwrlmkwlmrqb?rqrpwxmraw!ramvlrumrirumaaiomrjiksreqbprbpmraiumrwnnamb!\n",
      "\n",
      "offset19\n",
      "\tqnhscqnan!scqrbsrbsjwsngjvyunsxosjsljnbjaslryqna.sfnanshxdsjkunscxsmnlxmnsrc?srsqxynsbx!sbnwmsvnsjsvnbbjpnskjltsfrcqscqnsbjvnsxoobnc!\n",
      "\n",
      "offset20\n",
      "\troitdrobo!tdrsctsctkxtohkwzvotyptktmkockbtmszrob.tgobotiyetklvotdytnomynotsd?tstryzotcy!tcoxntwotktwocckqotlkmutgsdrtdrotckwotyppcod!\n",
      "\n",
      "offset21\n",
      "\tspjuespcp!uestdutdulyupilxawpuzqulunlpdlcuntaspc.uhpcpujzfulmwpuezuopnzopute?utuszapudz!udpyouxpuluxpddlrpumlnvuhtesuespudlxpuzqqdpe!\n",
      "\n",
      "offset22\n",
      "\ttqkvftqdq!vftuevuevmzvqjmybxqvarvmvomqemdvoubtqd.viqdqvkagvmnxqvfavpqoapqvuf?vuvtabqvea!veqzpvyqvmvyqeemsqvnmowviuftvftqvemyqvarreqf!\n",
      "\n",
      "offset23\n",
      "\turlwgurer!wguvfwvfwnawrknzcyrwbswnwpnrfnewpvcure.wjrerwlbhwnoyrwgbwqrpbqrwvg?wvwubcrwfb!wfraqwzrwnwzrffntrwonpxwjvguwgurwfnzrwbssfrg!\n",
      "\n",
      "offset24\n",
      "\tvsmxhvsfs!xhvwgxwgxobxsloadzsxctxoxqosgofxqwdvsf.xksfsxmcixopzsxhcxrsqcrsxwh?xwxvcdsxgc!xgsbrxasxoxasggousxpoqyxkwhvxhvsxgoasxcttgsh!\n",
      "\n",
      "offset25\n",
      "\twtnyiwtgt!yiwxhyxhypcytmpbeatyduypyrpthpgyrxewtg.yltgtyndjypqatyidystrdstyxi?yxywdetyhd!yhtcsybtypybthhpvtyqprzylxiwyiwtyhpbtyduuhti!\n",
      "\n"
     ]
    }
   ],
   "source": [
    "coded_message = \"vhfinmxkl atox kxgwxkxw tee hy maxlx hew vbiaxkl tl hulhexmx. px'ee atox mh kxteer lmxi ni hnk ztfx by px ptgm mh dxxi hnk fxlltzxl ltyx.\"\n",
    "for i in range(1,26):\n",
    "    print(\"offset\" + str(i))\n",
    "    print(\"\\t\" + decoder(message,i) + \"\\n\")"
   ]
  },
  {
   "cell_type": "code",
   "execution_count": 7,
   "metadata": {},
   "outputs": [
    {
     "name": "stdout",
     "output_type": "stream",
     "text": [
      "youvwereiablehtordecoderthis?inicehwork!wyourarehbecomingiquiteuthemexpertmatucrytography!\n"
     ]
    }
   ],
   "source": [
    "def vigenere_decoder(coded_message, keyword):\n",
    "    keyword_repeated = ''\n",
    "    while len(keyword_repeated) < len(coded_message):\n",
    "        keyword_repeated += keyword\n",
    "    keyword_final = keyword_repeated[0:len(coded_message)]\n",
    "    trans_message = ''\n",
    "    for i in range(0,len(coded_message)):    \n",
    "        if not coded_message[i] in punctuation:\n",
    "            ln = alphabet.find(coded_message[i]) - alphabet.find(keyword_final[i])\n",
    "            trans_message += alphabet[ln % 26]\n",
    "        else:\n",
    "            trans_message += coded_message[i]\n",
    "    return trans_message\n",
    "\n",
    "message = \"dfc jhjj ifyh yf hrfgiv xulk? vmph bfzo! qtl eeh gvkszlfl yyvww kpi hpuvzx dl tzcgrywrxll!\"\n",
    "keyword = \"friends\"\n",
    "\n",
    "print(vigenere_decoder(message, keyword))"
   ]
  },
  {
   "cell_type": "code",
   "execution_count": 8,
   "metadata": {},
   "outputs": [
    {
     "name": "stdout",
     "output_type": "stream",
     "text": [
      "ulsgswrgsjsbisdlagodefdsetdliikxhggpprvqtzfvk!hcgvdjxipdzdskmdliirumwl!\n"
     ]
    }
   ],
   "source": [
    "def vigenere_coder(message, keyword):\n",
    "    keyword_repeated = ''\n",
    "    while len(keyword_repeated) < len(message):    \n",
    "        keyword_repeated += keyword\n",
    "    keyword_final = keyword_repeated[0:len(message)]\n",
    "    trans_message = ''\n",
    "    for i in range(0,len(message)):\n",
    "        if message[i] not in punctuation:\n",
    "            ln = alphabet.find(message[i]) + alphabet.find(keyword_final[i])\n",
    "            trans_message += alphabet[ln % 26]\n",
    "        else:\n",
    "            trans_message += message[i]\n",
    "    return trans_message\n",
    "\n",
    "message_for_v = \"thanks for teaching me all these cool ciphers! you really are the best!\"\n",
    "keyword = \"besties\"\n",
    "\n",
    "print(vigenere_coder(message_for_v,keyword))"
   ]
  },
  {
   "cell_type": "code",
   "execution_count": null,
   "metadata": {},
   "outputs": [],
   "source": []
  }
 ],
 "metadata": {
  "kernelspec": {
   "display_name": "Python 3",
   "language": "python",
   "name": "python3"
  },
  "language_info": {
   "codemirror_mode": {
    "name": "ipython",
    "version": 3
   },
   "file_extension": ".py",
   "mimetype": "text/x-python",
   "name": "python",
   "nbconvert_exporter": "python",
   "pygments_lexer": "ipython3",
   "version": "3.7.3"
  }
 },
 "nbformat": 4,
 "nbformat_minor": 2
}
